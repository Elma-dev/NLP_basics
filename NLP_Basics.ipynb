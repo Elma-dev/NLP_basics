{
  "nbformat": 4,
  "nbformat_minor": 0,
  "metadata": {
    "colab": {
      "provenance": [],
      "authorship_tag": "ABX9TyNLohpw/7jDWOf5fXYEzjJY",
      "include_colab_link": true
    },
    "kernelspec": {
      "name": "python3",
      "display_name": "Python 3"
    },
    "language_info": {
      "name": "python"
    }
  },
  "cells": [
    {
      "cell_type": "markdown",
      "metadata": {
        "id": "view-in-github",
        "colab_type": "text"
      },
      "source": [
        "<a href=\"https://colab.research.google.com/github/Elma-dev/NLP_basics/blob/main/NLP_Basics.ipynb\" target=\"_parent\"><img src=\"https://colab.research.google.com/assets/colab-badge.svg\" alt=\"Open In Colab\"/></a>"
      ]
    },
    {
      "cell_type": "code",
      "source": [
        "import numpy as np"
      ],
      "metadata": {
        "id": "vhGn6cSnxDrX"
      },
      "execution_count": 1,
      "outputs": []
    },
    {
      "cell_type": "code",
      "source": [
        "corpus=np.array([\n",
        "    \"Dog bites man\",\n",
        "    \"Man bites dog\",\n",
        "    \"Dog eats meat.\",\n",
        "    \"Man eats food\"\n",
        "])"
      ],
      "metadata": {
        "id": "hcRb3xSTvjUr"
      },
      "execution_count": 2,
      "outputs": []
    },
    {
      "cell_type": "markdown",
      "source": [
        "# **Bag Of Words**"
      ],
      "metadata": {
        "id": "f_-P7hh5vXPS"
      }
    },
    {
      "cell_type": "code",
      "execution_count": 3,
      "metadata": {
        "id": "4Sccl_6ovAsO"
      },
      "outputs": [],
      "source": [
        "from sklearn.feature_extraction.text import CountVectorizer"
      ]
    },
    {
      "cell_type": "code",
      "source": [
        "count_vect=CountVectorizer()"
      ],
      "metadata": {
        "id": "ikhvYrgBvOsy"
      },
      "execution_count": 4,
      "outputs": []
    },
    {
      "cell_type": "code",
      "source": [
        "bow_rep=count_vect.fit_transform(corpus)"
      ],
      "metadata": {
        "id": "OfFoT-olvTK2"
      },
      "execution_count": 5,
      "outputs": []
    },
    {
      "cell_type": "code",
      "source": [
        "print(f\"our vocabulary:{count_vect.vocabulary_}\")"
      ],
      "metadata": {
        "colab": {
          "base_uri": "https://localhost:8080/"
        },
        "id": "q1heRU7GxSN6",
        "outputId": "c2a70b93-fb03-4861-ba17-91063d0b4b1d"
      },
      "execution_count": 6,
      "outputs": [
        {
          "output_type": "stream",
          "name": "stdout",
          "text": [
            "our vocabulary:{'dog': 1, 'bites': 0, 'man': 4, 'eats': 2, 'meat': 5, 'food': 3}\n"
          ]
        }
      ]
    },
    {
      "cell_type": "code",
      "source": [
        "print(f\"bow({corpus[0]})={bow_rep[0].toarray()}\")\n",
        "print(f\"bow({corpus[1]})={bow_rep[1].toarray()}\")"
      ],
      "metadata": {
        "colab": {
          "base_uri": "https://localhost:8080/"
        },
        "id": "hoQ1olHmxhs4",
        "outputId": "d5259256-7748-489c-dd84-4bc34572fb57"
      },
      "execution_count": 7,
      "outputs": [
        {
          "output_type": "stream",
          "name": "stdout",
          "text": [
            "bow(Dog bites man)=[[1 1 0 0 1 0]]\n",
            "bow(Man bites dog)=[[1 1 0 0 1 0]]\n"
          ]
        }
      ]
    },
    {
      "cell_type": "code",
      "source": [
        "count_vect.transform([\"Man and Man are friends\"]).toarray()"
      ],
      "metadata": {
        "colab": {
          "base_uri": "https://localhost:8080/"
        },
        "id": "aHMGxp1iyDxM",
        "outputId": "4e6feed4-65d4-4c3d-b2ab-3cb9aab5d3bc"
      },
      "execution_count": 8,
      "outputs": [
        {
          "output_type": "execute_result",
          "data": {
            "text/plain": [
              "array([[0, 0, 0, 0, 2, 0]])"
            ]
          },
          "metadata": {},
          "execution_count": 8
        }
      ]
    },
    {
      "cell_type": "markdown",
      "source": [
        "# **Bag Of N-Grams**"
      ],
      "metadata": {
        "id": "T3zsEdcZvHUD"
      }
    },
    {
      "cell_type": "code",
      "source": [
        "ngram_vect=CountVectorizer(ngram_range=(1,3))"
      ],
      "metadata": {
        "id": "FnncBYpXORyp"
      },
      "execution_count": 9,
      "outputs": []
    },
    {
      "cell_type": "code",
      "source": [
        "bon_rep=ngram_vect.fit_transform(corpus)"
      ],
      "metadata": {
        "id": "EWC5f_eiOjRw"
      },
      "execution_count": 10,
      "outputs": []
    },
    {
      "cell_type": "code",
      "source": [
        "print(f\"vocabulary: {ngram_vect.vocabulary_}\")"
      ],
      "metadata": {
        "colab": {
          "base_uri": "https://localhost:8080/"
        },
        "id": "8_SgXQkdOuIT",
        "outputId": "7a16ba41-0121-4444-e58a-13e68cf40eac"
      },
      "execution_count": 11,
      "outputs": [
        {
          "output_type": "stream",
          "name": "stdout",
          "text": [
            "vocabulary: {'dog': 3, 'bites': 0, 'man': 12, 'dog bites': 4, 'bites man': 2, 'dog bites man': 5, 'man bites': 13, 'bites dog': 1, 'man bites dog': 14, 'eats': 8, 'meat': 17, 'dog eats': 6, 'eats meat': 10, 'dog eats meat': 7, 'food': 11, 'man eats': 15, 'eats food': 9, 'man eats food': 16}\n"
          ]
        }
      ]
    },
    {
      "cell_type": "code",
      "source": [
        "print(f\"bon({corpus[0]})= {bon_rep.toarray()[0]}\")\n",
        "print(f\"bon({corpus[1]})= {bon_rep.toarray()[1]}\")"
      ],
      "metadata": {
        "colab": {
          "base_uri": "https://localhost:8080/"
        },
        "id": "cLjdePQDO52E",
        "outputId": "c3651175-57cb-48b1-f2f3-2607e4bf3b46"
      },
      "execution_count": 12,
      "outputs": [
        {
          "output_type": "stream",
          "name": "stdout",
          "text": [
            "bon(Dog bites man)= [1 0 1 1 1 1 0 0 0 0 0 0 1 0 0 0 0 0]\n",
            "bon(Man bites dog)= [1 1 0 1 0 0 0 0 0 0 0 0 1 1 1 0 0 0]\n"
          ]
        }
      ]
    },
    {
      "cell_type": "code",
      "source": [
        "ngram_vect.transform([\"Man and Man are friends\"]).toarray()"
      ],
      "metadata": {
        "colab": {
          "base_uri": "https://localhost:8080/"
        },
        "id": "0dfOcNsIPr1s",
        "outputId": "f7ea9b6d-8957-47f4-d702-f451f561fe3c"
      },
      "execution_count": 13,
      "outputs": [
        {
          "output_type": "execute_result",
          "data": {
            "text/plain": [
              "array([[0, 0, 0, 0, 0, 0, 0, 0, 0, 0, 0, 0, 2, 0, 0, 0, 0, 0]])"
            ]
          },
          "metadata": {},
          "execution_count": 13
        }
      ]
    },
    {
      "cell_type": "markdown",
      "source": [
        "# **TF-IDF**"
      ],
      "metadata": {
        "id": "R03K1_eCyg0O"
      }
    },
    {
      "cell_type": "code",
      "source": [
        "from sklearn.feature_extraction.text import TfidfVectorizer"
      ],
      "metadata": {
        "id": "cT1t3_10PRKP"
      },
      "execution_count": 14,
      "outputs": []
    },
    {
      "cell_type": "code",
      "source": [
        "tfIdfVect=TfidfVectorizer(use_idf=True)"
      ],
      "metadata": {
        "id": "wbMRRL63yzDt"
      },
      "execution_count": 15,
      "outputs": []
    },
    {
      "cell_type": "code",
      "source": [
        "tfIdf_rep=tfIdfVect.fit_transform(corpus)"
      ],
      "metadata": {
        "id": "D_6REaL2y0T1"
      },
      "execution_count": 16,
      "outputs": []
    },
    {
      "cell_type": "code",
      "source": [
        "tfIdfVect.idf_"
      ],
      "metadata": {
        "colab": {
          "base_uri": "https://localhost:8080/"
        },
        "id": "2tJwzL9ey_rX",
        "outputId": "cb6ee7e4-8063-4e54-d0d5-b7587ac159ea"
      },
      "execution_count": 17,
      "outputs": [
        {
          "output_type": "execute_result",
          "data": {
            "text/plain": [
              "array([1.51082562, 1.22314355, 1.51082562, 1.91629073, 1.22314355,\n",
              "       1.91629073])"
            ]
          },
          "metadata": {},
          "execution_count": 17
        }
      ]
    },
    {
      "cell_type": "code",
      "source": [
        "tfIdfVect.get_feature_names_out()"
      ],
      "metadata": {
        "colab": {
          "base_uri": "https://localhost:8080/"
        },
        "id": "uIk4RgYhzIwl",
        "outputId": "fb88aca8-5776-4051-ed12-8f87c4ab2255"
      },
      "execution_count": 18,
      "outputs": [
        {
          "output_type": "execute_result",
          "data": {
            "text/plain": [
              "array(['bites', 'dog', 'eats', 'food', 'man', 'meat'], dtype=object)"
            ]
          },
          "metadata": {},
          "execution_count": 18
        }
      ]
    },
    {
      "cell_type": "code",
      "source": [
        "tfIdf_rep.toarray()"
      ],
      "metadata": {
        "colab": {
          "base_uri": "https://localhost:8080/"
        },
        "id": "I6kAa04Pz9Ox",
        "outputId": "c731dc1c-7631-4f4f-f2dd-1fd27f7de4fa"
      },
      "execution_count": 19,
      "outputs": [
        {
          "output_type": "execute_result",
          "data": {
            "text/plain": [
              "array([[0.65782931, 0.53256952, 0.        , 0.        , 0.53256952,\n",
              "        0.        ],\n",
              "       [0.65782931, 0.53256952, 0.        , 0.        , 0.53256952,\n",
              "        0.        ],\n",
              "       [0.        , 0.44809973, 0.55349232, 0.        , 0.        ,\n",
              "        0.70203482],\n",
              "       [0.        , 0.        , 0.55349232, 0.70203482, 0.44809973,\n",
              "        0.        ]])"
            ]
          },
          "metadata": {},
          "execution_count": 19
        }
      ]
    },
    {
      "cell_type": "markdown",
      "source": [
        "# **Word2Vec**"
      ],
      "metadata": {
        "id": "TQHR9ObNHQrR"
      }
    },
    {
      "cell_type": "code",
      "source": [
        "from gensim.models import Word2Vec,KeyedVectors\n",
        "import gensim.downloader"
      ],
      "metadata": {
        "id": "8P6lES_LHUrJ"
      },
      "execution_count": 23,
      "outputs": []
    },
    {
      "cell_type": "code",
      "source": [
        "gensim.downloader.info()[\"models\"].keys()"
      ],
      "metadata": {
        "colab": {
          "base_uri": "https://localhost:8080/"
        },
        "id": "Py81YNU2Hfzj",
        "outputId": "ece61764-89ce-472f-95e9-1118a0947d3d"
      },
      "execution_count": 26,
      "outputs": [
        {
          "output_type": "execute_result",
          "data": {
            "text/plain": [
              "dict_keys(['fasttext-wiki-news-subwords-300', 'conceptnet-numberbatch-17-06-300', 'word2vec-ruscorpora-300', 'word2vec-google-news-300', 'glove-wiki-gigaword-50', 'glove-wiki-gigaword-100', 'glove-wiki-gigaword-200', 'glove-wiki-gigaword-300', 'glove-twitter-25', 'glove-twitter-50', 'glove-twitter-100', 'glove-twitter-200', '__testing_word2vec-matrix-synopsis'])"
            ]
          },
          "metadata": {},
          "execution_count": 26
        }
      ]
    },
    {
      "cell_type": "code",
      "source": [
        "glove_twit_=gensim.downloader.load(\"glove-twitter-100\")"
      ],
      "metadata": {
        "colab": {
          "base_uri": "https://localhost:8080/"
        },
        "id": "dkNu_Jd8HUwL",
        "outputId": "e0fe4404-c2f5-458c-e41c-3d2077b04fe9"
      },
      "execution_count": 27,
      "outputs": [
        {
          "output_type": "stream",
          "name": "stdout",
          "text": [
            "[==================================================] 100.0% 387.1/387.1MB downloaded\n"
          ]
        }
      ]
    },
    {
      "cell_type": "code",
      "source": [
        "print(\"the most simailar words of 'beautiful'\\n\",glove_twit.most_similar(\"beautiful\"))"
      ],
      "metadata": {
        "id": "f1PXuT803px8",
        "colab": {
          "base_uri": "https://localhost:8080/"
        },
        "outputId": "2bd222ff-5ef3-462a-e12d-998dce9ddc9e"
      },
      "execution_count": 32,
      "outputs": [
        {
          "output_type": "stream",
          "name": "stdout",
          "text": [
            "the most simailar words of 'beautiful'\n",
            " [('gorgeous', 0.8894475698471069), ('lovely', 0.8454167246818542), ('amazing', 0.8415848016738892), ('wonderful', 0.8386240601539612), ('pretty', 0.8151682615280151), ('perfect', 0.8063325881958008), ('stunning', 0.7912963628768921), ('love', 0.7891266942024231), ('fabulous', 0.7720125913619995), ('great', 0.7551646828651428)]\n"
          ]
        }
      ]
    },
    {
      "cell_type": "code",
      "source": [
        "#representation vector of \"beautiful\"\n",
        "glove_twit[\"beautiful\"]"
      ],
      "metadata": {
        "colab": {
          "base_uri": "https://localhost:8080/"
        },
        "id": "tPEPzcUWKMfA",
        "outputId": "62ce4dbe-aa2c-4f70-d00e-dbf804d4740e"
      },
      "execution_count": 33,
      "outputs": [
        {
          "output_type": "execute_result",
          "data": {
            "text/plain": [
              "array([-2.4458e-01, -1.5625e-01, -1.0662e-01,  1.0301e+00,  4.5470e-01,\n",
              "       -5.4162e-02,  6.6871e-01, -1.1156e-01, -2.5903e-01, -4.8663e-01,\n",
              "       -6.3634e-01,  4.9448e-02, -3.9373e+00, -7.4904e-01, -1.5832e-01,\n",
              "        2.8391e-01,  4.6099e-01, -8.8693e-01, -2.7598e-01, -4.5481e-02,\n",
              "        4.7407e-01, -5.4822e-01, -2.0248e-01, -2.1185e-01,  4.4775e-01,\n",
              "        4.0185e-02, -3.2798e-01,  2.2575e-01,  1.2254e-03, -5.3821e-02,\n",
              "       -5.1709e-01, -3.7126e-01, -9.7558e-02,  2.1935e-01,  2.7947e-02,\n",
              "        1.1592e-01,  1.4783e-01, -4.4554e-01, -6.8792e-01, -8.7646e-02,\n",
              "       -7.1567e-01, -5.6389e-01,  1.8504e-01,  6.9230e-01,  1.9744e-01,\n",
              "        3.4417e-01,  1.2001e+00, -8.3236e-01, -4.9701e-01, -4.1647e-01,\n",
              "       -6.1386e-01, -1.8944e-01,  1.9585e-01, -1.2800e+00,  8.8118e-01,\n",
              "        3.1454e-01, -3.6886e-01, -2.9003e-01,  3.5148e-01, -7.8839e-02,\n",
              "        2.0294e-01, -2.0052e-02, -6.4219e-01, -5.1995e-01,  7.3575e-02,\n",
              "        3.4568e-01, -1.0480e+00, -3.6306e-01, -4.3392e-01,  4.8524e-01,\n",
              "        1.4842e-01, -3.1191e-01,  4.3179e-01,  3.4584e-01,  1.2144e-01,\n",
              "       -1.9571e-01, -4.3982e-01,  4.4604e-01, -9.6845e-02,  3.1888e-01,\n",
              "        2.3411e+00, -2.4724e-01,  4.0673e-01, -1.2846e-01,  4.5639e-01,\n",
              "        5.3168e-01,  3.9249e-01,  6.2607e-01, -4.9140e-01,  2.0908e-01,\n",
              "        1.3411e+00,  3.9634e-01,  1.9475e-01, -4.8298e-01,  3.7522e-01,\n",
              "        1.2797e-01,  5.5525e-01, -1.2968e-01,  3.0268e-02, -2.7778e-01],\n",
              "      dtype=float32)"
            ]
          },
          "metadata": {},
          "execution_count": 33
        }
      ]
    },
    {
      "cell_type": "code",
      "source": [],
      "metadata": {
        "id": "qrMIg7Lx3pu0"
      },
      "execution_count": 19,
      "outputs": []
    },
    {
      "cell_type": "code",
      "source": [],
      "metadata": {
        "id": "f4DMVJAK3fUq"
      },
      "execution_count": 19,
      "outputs": []
    }
  ]
}
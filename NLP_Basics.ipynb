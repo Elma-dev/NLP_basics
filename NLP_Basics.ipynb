{
  "nbformat": 4,
  "nbformat_minor": 0,
  "metadata": {
    "colab": {
      "provenance": [],
      "authorship_tag": "ABX9TyM9B1hC2AxT5SHWD2HZ2BSd",
      "include_colab_link": true
    },
    "kernelspec": {
      "name": "python3",
      "display_name": "Python 3"
    },
    "language_info": {
      "name": "python"
    }
  },
  "cells": [
    {
      "cell_type": "markdown",
      "metadata": {
        "id": "view-in-github",
        "colab_type": "text"
      },
      "source": [
        "<a href=\"https://colab.research.google.com/github/Elma-dev/NLP_basics/blob/main/NLP_Basics.ipynb\" target=\"_parent\"><img src=\"https://colab.research.google.com/assets/colab-badge.svg\" alt=\"Open In Colab\"/></a>"
      ]
    },
    {
      "cell_type": "code",
      "source": [
        "import numpy as np"
      ],
      "metadata": {
        "id": "vhGn6cSnxDrX"
      },
      "execution_count": null,
      "outputs": []
    },
    {
      "cell_type": "code",
      "source": [
        "corpus=np.array([\n",
        "    \"Dog bites man\",\n",
        "    \"Man bites dog\",\n",
        "    \"Dog eats meat.\",\n",
        "    \"Man eats food\"\n",
        "])"
      ],
      "metadata": {
        "id": "hcRb3xSTvjUr"
      },
      "execution_count": null,
      "outputs": []
    },
    {
      "cell_type": "markdown",
      "source": [
        "# **Bag Of Words**"
      ],
      "metadata": {
        "id": "f_-P7hh5vXPS"
      }
    },
    {
      "cell_type": "code",
      "execution_count": null,
      "metadata": {
        "id": "4Sccl_6ovAsO"
      },
      "outputs": [],
      "source": [
        "from sklearn.feature_extraction.text import CountVectorizer"
      ]
    },
    {
      "cell_type": "code",
      "source": [
        "count_vect=CountVectorizer()"
      ],
      "metadata": {
        "id": "ikhvYrgBvOsy"
      },
      "execution_count": null,
      "outputs": []
    },
    {
      "cell_type": "code",
      "source": [
        "bow_rep=count_vect.fit_transform(corpus)"
      ],
      "metadata": {
        "id": "OfFoT-olvTK2"
      },
      "execution_count": null,
      "outputs": []
    },
    {
      "cell_type": "code",
      "source": [
        "print(f\"our vocabulary:{count_vect.vocabulary_}\")"
      ],
      "metadata": {
        "colab": {
          "base_uri": "https://localhost:8080/"
        },
        "id": "q1heRU7GxSN6",
        "outputId": "1fd2920d-f6a2-4481-b895-9bbddab0e13e"
      },
      "execution_count": null,
      "outputs": [
        {
          "output_type": "stream",
          "name": "stdout",
          "text": [
            "our vocabulary:{'dog': 1, 'bites': 0, 'man': 4, 'eats': 2, 'food': 3}\n"
          ]
        }
      ]
    },
    {
      "cell_type": "code",
      "source": [
        "print(f\"bow({corpus[0]})={bow_rep[0].toarray()}\")\n",
        "print(f\"bow({corpus[1]})={bow_rep[1].toarray()}\")"
      ],
      "metadata": {
        "colab": {
          "base_uri": "https://localhost:8080/"
        },
        "id": "hoQ1olHmxhs4",
        "outputId": "a51f7b30-bb76-4f55-bf60-a458e0d4656d"
      },
      "execution_count": null,
      "outputs": [
        {
          "output_type": "stream",
          "name": "stdout",
          "text": [
            "bow(Dog bites man)=[[1 1 0 0 1]]\n",
            "bow(Man bites dog)=[[1 1 0 0 1]]\n"
          ]
        }
      ]
    },
    {
      "cell_type": "code",
      "source": [
        "count_vect.transform([\"Man and Man are friends\"]).toarray()"
      ],
      "metadata": {
        "colab": {
          "base_uri": "https://localhost:8080/"
        },
        "id": "aHMGxp1iyDxM",
        "outputId": "2fc32e01-3199-461c-f675-da5029868d11"
      },
      "execution_count": null,
      "outputs": [
        {
          "output_type": "execute_result",
          "data": {
            "text/plain": [
              "array([[0, 0, 0, 0, 2]])"
            ]
          },
          "metadata": {},
          "execution_count": 28
        }
      ]
    },
    {
      "cell_type": "markdown",
      "source": [
        "# **Bag Of N-Grams**"
      ],
      "metadata": {
        "id": "T3zsEdcZvHUD"
      }
    },
    {
      "cell_type": "code",
      "source": [
        "ngram_vect=CountVectorizer(ngram_range=(1,3))"
      ],
      "metadata": {
        "id": "FnncBYpXORyp"
      },
      "execution_count": null,
      "outputs": []
    },
    {
      "cell_type": "code",
      "source": [
        "bon_rep=ngram_vect.fit_transform(corpus)"
      ],
      "metadata": {
        "id": "EWC5f_eiOjRw"
      },
      "execution_count": null,
      "outputs": []
    },
    {
      "cell_type": "code",
      "source": [
        "print(f\"vocabulary: {ngram_vect.vocabulary_}\")"
      ],
      "metadata": {
        "colab": {
          "base_uri": "https://localhost:8080/"
        },
        "id": "8_SgXQkdOuIT",
        "outputId": "da43337c-9117-498f-ff2c-cc75429c3931"
      },
      "execution_count": null,
      "outputs": [
        {
          "output_type": "stream",
          "name": "stdout",
          "text": [
            "vocabulary: {'dog': 3, 'bites': 0, 'man': 9, 'dog bites': 4, 'bites man': 2, 'dog bites man': 5, 'man bites': 10, 'bites dog': 1, 'man bites dog': 11, 'eats': 6, 'food': 8, 'man eats': 12, 'eats food': 7, 'man eats food': 13}\n"
          ]
        }
      ]
    },
    {
      "cell_type": "code",
      "source": [
        "print(f\"bon({corpus[0]})= {bon_rep.toarray()[0]}\")\n",
        "print(f\"bon({corpus[1]})= {bon_rep.toarray()[1]}\")"
      ],
      "metadata": {
        "colab": {
          "base_uri": "https://localhost:8080/"
        },
        "id": "cLjdePQDO52E",
        "outputId": "acc87e82-8d9f-40b1-ba75-1177307bbc1a"
      },
      "execution_count": null,
      "outputs": [
        {
          "output_type": "stream",
          "name": "stdout",
          "text": [
            "bon(Dog bites man)= [1 0 1 1 1 1 0 0 0 1 0 0 0 0]\n",
            "bon(Man bites dog)= [1 1 0 1 0 0 0 0 0 1 1 1 0 0]\n"
          ]
        }
      ]
    },
    {
      "cell_type": "code",
      "source": [
        "ngram_vect.transform([\"Man and Man are friends\"]).toarray()"
      ],
      "metadata": {
        "colab": {
          "base_uri": "https://localhost:8080/"
        },
        "id": "0dfOcNsIPr1s",
        "outputId": "0720c613-82ec-4459-c166-f29a64a73acf"
      },
      "execution_count": null,
      "outputs": [
        {
          "output_type": "execute_result",
          "data": {
            "text/plain": [
              "array([[0, 0, 0, 0, 0, 0, 0, 0, 0, 2, 0, 0, 0, 0]])"
            ]
          },
          "metadata": {},
          "execution_count": 39
        }
      ]
    },
    {
      "cell_type": "markdown",
      "source": [
        "# **TF-IDF**"
      ],
      "metadata": {
        "id": "R03K1_eCyg0O"
      }
    },
    {
      "cell_type": "code",
      "source": [
        "from sklearn.feature_extraction.text import TfidfVectorizer"
      ],
      "metadata": {
        "id": "cT1t3_10PRKP"
      },
      "execution_count": null,
      "outputs": []
    },
    {
      "cell_type": "code",
      "source": [
        "tfIdfVect=TfidfVectorizer(use_idf=True)"
      ],
      "metadata": {
        "id": "wbMRRL63yzDt"
      },
      "execution_count": null,
      "outputs": []
    },
    {
      "cell_type": "code",
      "source": [
        "tfIdf_rep=tfIdfVect.fit_transform(corpus)"
      ],
      "metadata": {
        "id": "D_6REaL2y0T1"
      },
      "execution_count": null,
      "outputs": []
    },
    {
      "cell_type": "code",
      "source": [
        "tfIdfVect.idf_"
      ],
      "metadata": {
        "colab": {
          "base_uri": "https://localhost:8080/"
        },
        "id": "2tJwzL9ey_rX",
        "outputId": "2c220846-b381-4281-88e7-9946cb84dfdf"
      },
      "execution_count": null,
      "outputs": [
        {
          "output_type": "execute_result",
          "data": {
            "text/plain": [
              "array([1.51082562, 1.22314355, 1.51082562, 1.91629073, 1.22314355,\n",
              "       1.91629073])"
            ]
          },
          "metadata": {},
          "execution_count": 68
        }
      ]
    },
    {
      "cell_type": "code",
      "source": [
        "tfIdfVect.get_feature_names_out()"
      ],
      "metadata": {
        "colab": {
          "base_uri": "https://localhost:8080/"
        },
        "id": "uIk4RgYhzIwl",
        "outputId": "2c3c84da-66bb-48c6-926c-f6ab7cf322b9"
      },
      "execution_count": null,
      "outputs": [
        {
          "output_type": "execute_result",
          "data": {
            "text/plain": [
              "array(['bites', 'dog', 'eats', 'food', 'man', 'meat'], dtype=object)"
            ]
          },
          "metadata": {},
          "execution_count": 69
        }
      ]
    },
    {
      "cell_type": "code",
      "source": [
        "tfIdf_rep.toarray()"
      ],
      "metadata": {
        "colab": {
          "base_uri": "https://localhost:8080/"
        },
        "id": "I6kAa04Pz9Ox",
        "outputId": "80dee955-80b6-459d-aeca-06029f9cf8bf"
      },
      "execution_count": null,
      "outputs": [
        {
          "output_type": "execute_result",
          "data": {
            "text/plain": [
              "array([[0.65782931, 0.53256952, 0.        , 0.        , 0.53256952,\n",
              "        0.        ],\n",
              "       [0.65782931, 0.53256952, 0.        , 0.        , 0.53256952,\n",
              "        0.        ],\n",
              "       [0.        , 0.44809973, 0.55349232, 0.        , 0.        ,\n",
              "        0.70203482],\n",
              "       [0.        , 0.        , 0.55349232, 0.70203482, 0.44809973,\n",
              "        0.        ]])"
            ]
          },
          "metadata": {},
          "execution_count": 70
        }
      ]
    },
    {
      "cell_type": "code",
      "source": [],
      "metadata": {
        "id": "f1PXuT803px8"
      },
      "execution_count": null,
      "outputs": []
    },
    {
      "cell_type": "code",
      "source": [],
      "metadata": {
        "id": "qrMIg7Lx3pu0"
      },
      "execution_count": null,
      "outputs": []
    },
    {
      "cell_type": "code",
      "source": [],
      "metadata": {
        "id": "f4DMVJAK3fUq"
      },
      "execution_count": null,
      "outputs": []
    }
  ]
}